{
  "nbformat": 4,
  "nbformat_minor": 0,
  "metadata": {
    "colab": {
      "name": "01-download-data.ipynb",
      "provenance": [],
      "authorship_tag": "ABX9TyNxey0/3UQV/teBWmVwzSQ1",
      "include_colab_link": true
    },
    "kernelspec": {
      "name": "python3",
      "display_name": "Python 3"
    }
  },
  "cells": [
    {
      "cell_type": "markdown",
      "metadata": {
        "id": "view-in-github",
        "colab_type": "text"
      },
      "source": [
        "<a href=\"https://colab.research.google.com/github/wcj365/us-college-data-analysis/blob/master/notebooks/01-download-data.ipynb\" target=\"_parent\"><img src=\"https://colab.research.google.com/assets/colab-badge.svg\" alt=\"Open In Colab\"/></a>"
      ]
    },
    {
      "cell_type": "markdown",
      "metadata": {
        "id": "UwN7wtNZ8v2x",
        "colab_type": "text"
      },
      "source": [
        "# College Scorecard Exploration\n",
        "## 01 - Download Data to Google Drive\n",
        "Download the most recent institution level data to Google Drive."
      ]
    },
    {
      "cell_type": "code",
      "metadata": {
        "id": "fSeHDVrW5s9r",
        "colab_type": "code",
        "outputId": "1cf04848-cf37-4f27-eeb9-c3a5c10ec447",
        "colab": {
          "base_uri": "https://localhost:8080/",
          "height": 122
        }
      },
      "source": [
        "# Step 1 - Point Colaboratory to my Google Drive\n",
        "\n",
        "from google.colab import drive\n",
        "drive.mount('/content/gdrive')"
      ],
      "execution_count": 0,
      "outputs": [
        {
          "output_type": "stream",
          "text": [
            "Go to this URL in a browser: https://accounts.google.com/o/oauth2/auth?client_id=947318989803-6bn6qk8qdgf4n4g3pfee6491hc0brc4i.apps.googleusercontent.com&redirect_uri=urn%3aietf%3awg%3aoauth%3a2.0%3aoob&response_type=code&scope=email%20https%3a%2f%2fwww.googleapis.com%2fauth%2fdocs.test%20https%3a%2f%2fwww.googleapis.com%2fauth%2fdrive%20https%3a%2f%2fwww.googleapis.com%2fauth%2fdrive.photos.readonly%20https%3a%2f%2fwww.googleapis.com%2fauth%2fpeopleapi.readonly\n",
            "\n",
            "Enter your authorization code:\n",
            "··········\n",
            "Mounted at /content/gdrive\n"
          ],
          "name": "stdout"
        }
      ]
    },
    {
      "cell_type": "code",
      "metadata": {
        "id": "TY29I-BX6fbs",
        "colab_type": "code",
        "colab": {}
      },
      "source": [
        "# Step 2 -  Download the dataset directly to \"Colab Datasets\" folder\n",
        "\n",
        "import requests\n",
        "\n",
        "SOURCE_URL = \"https://ed-public-download.app.cloud.gov/downloads/Most-Recent-Cohorts-All-Data-Elements.csv\"\n",
        "TARGET_FOLDER = \"/content/gdrive/My Drive/Colab Datasets/\"\n",
        "TARGET_FILE = \"Most-Recent-Cohorts-All-Data-Elements-03-01-2020.csv\"\n",
        "\n",
        "req = requests.get(SOURCE_URL, stream = True) \n",
        "\n",
        "with open(TARGET_FOLDER + TARGET_FILE, \"wb\") as file: \n",
        "\tfor block in req.iter_content(chunk_size = 1024): \n",
        "\t\tif block: \n",
        "\t\t\tfile.write(block)\n",
        "\n",
        "print(\"Data download completed!\")"
      ],
      "execution_count": 0,
      "outputs": []
    }
  ]
}