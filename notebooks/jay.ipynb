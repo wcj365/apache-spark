{
 "cells": [
  {
   "cell_type": "code",
   "execution_count": 3,
   "metadata": {},
   "outputs": [
    {
     "data": {
      "text/html": [
       "\n",
       "        <div>\n",
       "            <p><b>SparkContext</b></p>\n",
       "\n",
       "            <p><a href=\"http://0d984aa7cdc2:4043\">Spark UI</a></p>\n",
       "\n",
       "            <dl>\n",
       "              <dt>Version</dt>\n",
       "                <dd><code>v2.4.4</code></dd>\n",
       "              <dt>Master</dt>\n",
       "                <dd><code>local[*]</code></dd>\n",
       "              <dt>AppName</dt>\n",
       "                <dd><code>Jay Test</code></dd>\n",
       "            </dl>\n",
       "        </div>\n",
       "        "
      ],
      "text/plain": [
       "<SparkContext master=local[*] appName=Jay Test>"
      ]
     },
     "execution_count": 3,
     "metadata": {},
     "output_type": "execute_result"
    }
   ],
   "source": [
    "from pyspark import SparkContext, SparkConf\n",
    "import findspark\n",
    "\n",
    "findspark.init()\n",
    "\n",
    "myConf = SparkConf()\n",
    "myConf = myConf.setAppName(\"Jay Test\")\n",
    "\n",
    "sc = SparkContext(conf=myConf)\n",
    "sc"
   ]
  },
  {
   "cell_type": "code",
   "execution_count": 7,
   "metadata": {},
   "outputs": [
    {
     "data": {
      "text/plain": [
       "['Content is the glimpse of something, an',\n",
       " 'encounter like a flash. It’s very tiny—very',\n",
       " 'tiny, content.',\n",
       " 'WILLIAM DE KOONING, in an',\n",
       " 'interview',\n",
       " 'It is only shallow people who do not judge',\n",
       " 'by appearances. The mystery of the world is',\n",
       " 'the visible, not the invisible.',\n",
       " 'OSCAR WILDE, in a letter',\n",
       " 'Against Interpretation']"
      ]
     },
     "execution_count": 7,
     "metadata": {},
     "output_type": "execute_result"
    }
   ],
   "source": [
    "myFile = sc.textFile(\"../data/external/against-interpretation.txt\")\n",
    "myFile.take(10)"
   ]
  },
  {
   "cell_type": "code",
   "execution_count": 9,
   "metadata": {},
   "outputs": [
    {
     "data": {
      "text/plain": [
       "372"
      ]
     },
     "execution_count": 9,
     "metadata": {},
     "output_type": "execute_result"
    }
   ],
   "source": [
    "lineCount = myFile.count()\n",
    "lineCount"
   ]
  },
  {
   "cell_type": "code",
   "execution_count": 10,
   "metadata": {},
   "outputs": [
    {
     "data": {
      "text/plain": [
       "[['Content', 'is', 'the', 'glimpse', 'of', 'something,', 'an'],\n",
       " ['encounter', 'like', 'a', 'flash.', 'It’s', 'very', 'tiny—very'],\n",
       " ['tiny,', 'content.'],\n",
       " ['WILLIAM', 'DE', 'KOONING,', 'in', 'an'],\n",
       " ['interview'],\n",
       " ['It', 'is', 'only', 'shallow', 'people', 'who', 'do', 'not', 'judge'],\n",
       " ['by', 'appearances.', 'The', 'mystery', 'of', 'the', 'world', 'is'],\n",
       " ['the', 'visible,', 'not', 'the', 'invisible.'],\n",
       " ['OSCAR', 'WILDE,', 'in', 'a', 'letter'],\n",
       " ['Against', 'Interpretation']]"
      ]
     },
     "execution_count": 10,
     "metadata": {},
     "output_type": "execute_result"
    }
   ],
   "source": [
    "myFile2 = myFile.map(lambda x : x.split(\" \"))\n",
    "myFile2.take(10)"
   ]
  },
  {
   "cell_type": "code",
   "execution_count": 11,
   "metadata": {},
   "outputs": [
    {
     "data": {
      "text/plain": [
       "['Content',\n",
       " 'is',\n",
       " 'the',\n",
       " 'glimpse',\n",
       " 'of',\n",
       " 'something,',\n",
       " 'an',\n",
       " 'encounter',\n",
       " 'like',\n",
       " 'a']"
      ]
     },
     "execution_count": 11,
     "metadata": {},
     "output_type": "execute_result"
    }
   ],
   "source": [
    "myFile2 = myFile.flatMap(lambda x : x.split(\" \"))\n",
    "myFile2.take(10)"
   ]
  },
  {
   "cell_type": "code",
   "execution_count": 12,
   "metadata": {},
   "outputs": [
    {
     "data": {
      "text/plain": [
       "[('Content', 1),\n",
       " ('is', 1),\n",
       " ('the', 1),\n",
       " ('glimpse', 1),\n",
       " ('of', 1),\n",
       " ('something,', 1),\n",
       " ('an', 1),\n",
       " ('encounter', 1),\n",
       " ('like', 1),\n",
       " ('a', 1),\n",
       " ('flash.', 1),\n",
       " ('It’s', 1),\n",
       " ('very', 1),\n",
       " ('tiny—very', 1),\n",
       " ('tiny,', 1),\n",
       " ('content.', 1),\n",
       " ('WILLIAM', 1),\n",
       " ('DE', 1),\n",
       " ('KOONING,', 1),\n",
       " ('in', 1),\n",
       " ('an', 1),\n",
       " ('interview', 1),\n",
       " ('It', 1),\n",
       " ('is', 1),\n",
       " ('only', 1),\n",
       " ('shallow', 1),\n",
       " ('people', 1),\n",
       " ('who', 1),\n",
       " ('do', 1),\n",
       " ('not', 1),\n",
       " ('judge', 1),\n",
       " ('by', 1),\n",
       " ('appearances.', 1),\n",
       " ('The', 1),\n",
       " ('mystery', 1),\n",
       " ('of', 1),\n",
       " ('the', 1),\n",
       " ('world', 1),\n",
       " ('is', 1),\n",
       " ('the', 1),\n",
       " ('visible,', 1),\n",
       " ('not', 1),\n",
       " ('the', 1),\n",
       " ('invisible.', 1),\n",
       " ('OSCAR', 1),\n",
       " ('WILDE,', 1),\n",
       " ('in', 1),\n",
       " ('a', 1),\n",
       " ('letter', 1),\n",
       " ('Against', 1)]"
      ]
     },
     "execution_count": 12,
     "metadata": {},
     "output_type": "execute_result"
    }
   ],
   "source": [
    "myFile3 = myFile2.map(lambda x : (x,1))\n",
    "myFile3.take(50)"
   ]
  },
  {
   "cell_type": "code",
   "execution_count": 13,
   "metadata": {},
   "outputs": [
    {
     "data": {
      "text/plain": [
       "[('Content', 1),\n",
       " ('is', 117),\n",
       " ('glimpse', 1),\n",
       " ('of', 242),\n",
       " ('something,', 3),\n",
       " ('an', 26),\n",
       " ('encounter', 1),\n",
       " ('like', 7),\n",
       " ('flash.', 1),\n",
       " ('It’s', 1)]"
      ]
     },
     "execution_count": 13,
     "metadata": {},
     "output_type": "execute_result"
    }
   ],
   "source": [
    "counts = myFile3.reduceByKey(lambda v1,v2: v1 + v2)\n",
    "counts.take(10)"
   ]
  },
  {
   "cell_type": "code",
   "execution_count": 25,
   "metadata": {},
   "outputs": [
    {
     "data": {
      "text/plain": [
       "[('is', 117), ('of', 242), ('the', 247), ('to', 104)]"
      ]
     },
     "execution_count": 25,
     "metadata": {},
     "output_type": "execute_result"
    }
   ],
   "source": [
    "filtered = counts.filter(lambda x : x[1] > 100)\n",
    "filtered.collect()\n",
    "filtered.take(100)"
   ]
  },
  {
   "cell_type": "code",
   "execution_count": 20,
   "metadata": {},
   "outputs": [
    {
     "data": {
      "text/plain": [
       "[('', 5),\n",
       " ('(Cf.', 1),\n",
       " ('(It', 1),\n",
       " ('(The', 2),\n",
       " ('(a', 1),\n",
       " ('(another', 1),\n",
       " ('(art', 2),\n",
       " ('(as', 1),\n",
       " ('(conscious', 1),\n",
       " ('(i.e.,', 1)]"
      ]
     },
     "execution_count": 20,
     "metadata": {},
     "output_type": "execute_result"
    }
   ],
   "source": [
    "counts2 = counts.sortByKey()\n",
    "counts2.take(10)"
   ]
  },
  {
   "cell_type": "code",
   "execution_count": 26,
   "metadata": {},
   "outputs": [],
   "source": [
    "counts2.saveAsTextFile(\"../data/output\")"
   ]
  },
  {
   "cell_type": "code",
   "execution_count": null,
   "metadata": {},
   "outputs": [],
   "source": []
  }
 ],
 "metadata": {
  "kernelspec": {
   "display_name": "Python 3",
   "language": "python",
   "name": "python3"
  },
  "language_info": {
   "codemirror_mode": {
    "name": "ipython",
    "version": 3
   },
   "file_extension": ".py",
   "mimetype": "text/x-python",
   "name": "python",
   "nbconvert_exporter": "python",
   "pygments_lexer": "ipython3",
   "version": "3.7.6"
  }
 },
 "nbformat": 4,
 "nbformat_minor": 4
}
