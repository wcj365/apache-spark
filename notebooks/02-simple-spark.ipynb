{
  "nbformat": 4,
  "nbformat_minor": 0,
  "metadata": {
    "colab": {
      "name": "02-simple-spark.ipynb",
      "provenance": [],
      "mount_file_id": "1NJU6QQXePXEM3KwVl62YZ6IpgducmTHD",
      "authorship_tag": "ABX9TyN6DgHBXJf/bg19XAqZEWLr",
      "include_colab_link": true
    },
    "kernelspec": {
      "name": "python3",
      "display_name": "Python 3"
    }
  },
  "cells": [
    {
      "cell_type": "markdown",
      "metadata": {
        "id": "view-in-github",
        "colab_type": "text"
      },
      "source": [
        "<a href=\"https://colab.research.google.com/github/wcj365/us-college-data-analysis/blob/master/notebooks/02-simple-spark.ipynb\" target=\"_parent\"><img src=\"https://colab.research.google.com/assets/colab-badge.svg\" alt=\"Open In Colab\"/></a>"
      ]
    },
    {
      "cell_type": "markdown",
      "metadata": {
        "id": "gODytZ6Xb3R3",
        "colab_type": "text"
      },
      "source": [
        "# 02 - Simple Example\n",
        "This example uses a simple tiny list of four numbers to illustrate the cooncept of Resilient Distributed Dataset (RDD). The list is distributed within the cluster (potentially many nodes or computers). In reality, the list can be millions of objects and must be distributed across many nodes.In reality, the list can be millions of objects and must be distributed across many nodes."
      ]
    },
    {
      "cell_type": "markdown",
      "metadata": {
        "id": "QOcyV-2adYaA",
        "colab_type": "text"
      },
      "source": [
        "## Step 1 - Install spark-related dependencies\n",
        "- JDK\n",
        "- Apache Spark\n",
        "- PySpark\n",
        "\n",
        "The JDK, Apache Spark, and PySpark will be installed on the Google Cloud instance. Since cloud instance is not a permanent machine. We will need to install them each time an new instance is used.\n"
      ]
    },
    {
      "cell_type": "code",
      "metadata": {
        "id": "2GRRuiDI_zvw",
        "colab_type": "code",
        "colab": {
          "base_uri": "https://localhost:8080/",
          "height": 258
        },
        "outputId": "aa3b7a25-652d-4224-d4bc-5b7c7c0b58a2"
      },
      "source": [
        "!apt-get install openjdk-8-jdk-headless -qq > /dev/null\n",
        "\n",
        "!wget -q http://apache.osuosl.org/spark/spark-2.4.5/spark-2.4.5-bin-hadoop2.7.tgz\n",
        "\n",
        "!tar xf spark-2.4.5-bin-hadoop2.7.tgz\n",
        "\n",
        "!pip install -q findspark\n",
        "\n",
        "!pip install pyspark\n",
        "\n",
        "print(\"Installatoin complete!\")"
      ],
      "execution_count": 3,
      "outputs": [
        {
          "output_type": "stream",
          "text": [
            "Collecting pyspark\n",
            "\u001b[?25l  Downloading https://files.pythonhosted.org/packages/9a/5a/271c416c1c2185b6cb0151b29a91fff6fcaed80173c8584ff6d20e46b465/pyspark-2.4.5.tar.gz (217.8MB)\n",
            "\u001b[K     |████████████████████████████████| 217.8MB 60kB/s \n",
            "\u001b[?25hCollecting py4j==0.10.7\n",
            "\u001b[?25l  Downloading https://files.pythonhosted.org/packages/e3/53/c737818eb9a7dc32a7cd4f1396e787bd94200c3997c72c1dbe028587bd76/py4j-0.10.7-py2.py3-none-any.whl (197kB)\n",
            "\u001b[K     |████████████████████████████████| 204kB 49.0MB/s \n",
            "\u001b[?25hBuilding wheels for collected packages: pyspark\n",
            "  Building wheel for pyspark (setup.py) ... \u001b[?25l\u001b[?25hdone\n",
            "  Created wheel for pyspark: filename=pyspark-2.4.5-py2.py3-none-any.whl size=218257927 sha256=8c022eb3e66e8d83f34c242467a5f5e521272f17bfa8d1305b5ce4c988514eff\n",
            "  Stored in directory: /root/.cache/pip/wheels/bf/db/04/61d66a5939364e756eb1c1be4ec5bdce6e04047fc7929a3c3c\n",
            "Successfully built pyspark\n",
            "Installing collected packages: py4j, pyspark\n",
            "Successfully installed py4j-0.10.7 pyspark-2.4.5\n"
          ],
          "name": "stdout"
        }
      ]
    },
    {
      "cell_type": "markdown",
      "metadata": {
        "id": "aHjBO6QadelY",
        "colab_type": "text"
      },
      "source": [
        "## Step 2 - Import libraries and Set up required environment variables"
      ]
    },
    {
      "cell_type": "code",
      "metadata": {
        "id": "2R1GHDlCDRnA",
        "colab_type": "code",
        "colab": {}
      },
      "source": [
        "import os\n",
        "from pyspark import SparkContext, SparkConf\n",
        "\n",
        "os.environ[\"JAVA_HOME\"] = \"/usr/lib/jvm/java-8-openjdk-amd64\"\n",
        "os.environ[\"SPARK_HOME\"] = \"/content/spark-2.4.5-bin-hadoop2.7\"\n",
        "\n"
      ],
      "execution_count": 0,
      "outputs": []
    },
    {
      "cell_type": "markdown",
      "metadata": {
        "id": "BgfGia0cga4O",
        "colab_type": "text"
      },
      "source": [
        "## Step 3 - Establish Spark Context "
      ]
    },
    {
      "cell_type": "code",
      "metadata": {
        "id": "zLC2-ppRCQPx",
        "colab_type": "code",
        "colab": {}
      },
      "source": [
        "APP_NAME = \"CollegeScorecard\"\n",
        "SPARK_URL = \"local[*]\"\n",
        "\n",
        "conf = SparkConf().setAppName(APP_NAME).setMaster(SPARK_URL)\n",
        "\n",
        "sc = SparkContext.getOrCreate(conf)                 "
      ],
      "execution_count": 0,
      "outputs": []
    },
    {
      "cell_type": "markdown",
      "metadata": {
        "id": "U2Wd9VlhhNGw",
        "colab_type": "text"
      },
      "source": [
        "# Step 4 - Perfrom Simple Examples"
      ]
    },
    {
      "cell_type": "code",
      "metadata": {
        "id": "QT6giOhTg8ea",
        "colab_type": "code",
        "colab": {
          "base_uri": "https://localhost:8080/",
          "height": 34
        },
        "outputId": "60249ea4-a732-4921-b624-737996454d9c"
      },
      "source": [
        "# create a RDD\n",
        "\n",
        "data = range(4)                 # a tiny dataset to experiment big data\n",
        "\n",
        "a = sc.parallelize(range(4))    # Initial the Resilient Distributed Dataset\n",
        "\n"
      ],
      "execution_count": 11,
      "outputs": [
        {
          "output_type": "execute_result",
          "data": {
            "text/plain": [
              "[0, 1, 2, 3]"
            ]
          },
          "metadata": {
            "tags": []
          },
          "execution_count": 11
        }
      ]
    },
    {
      "cell_type": "code",
      "metadata": {
        "id": "0m-AEy9yoW72",
        "colab_type": "code",
        "colab": {
          "base_uri": "https://localhost:8080/",
          "height": 34
        },
        "outputId": "f81ba87f-fb65-44fc-8b36-29a9aa980844"
      },
      "source": [
        "# get the data from the nodes to the master\n",
        "\n",
        "a.collect()                     "
      ],
      "execution_count": 13,
      "outputs": [
        {
          "output_type": "execute_result",
          "data": {
            "text/plain": [
              "[0, 1, 2, 3]"
            ]
          },
          "metadata": {
            "tags": []
          },
          "execution_count": 13
        }
      ]
    },
    {
      "cell_type": "code",
      "metadata": {
        "id": "n2AcNdIIjXQQ",
        "colab_type": "code",
        "colab": {
          "base_uri": "https://localhost:8080/",
          "height": 34
        },
        "outputId": "df0edbcf-32a0-41d0-82d7-026a87278e15"
      },
      "source": [
        "# Get the total number of elements in the list \n",
        "\n",
        "a.count()    "
      ],
      "execution_count": 14,
      "outputs": [
        {
          "output_type": "execute_result",
          "data": {
            "text/plain": [
              "4"
            ]
          },
          "metadata": {
            "tags": []
          },
          "execution_count": 14
        }
      ]
    },
    {
      "cell_type": "code",
      "metadata": {
        "id": "HpV-xcrBiHls",
        "colab_type": "code",
        "colab": {
          "base_uri": "https://localhost:8080/",
          "height": 34
        },
        "outputId": "de14a580-7e8a-4517-e9e6-02e90ee3c2be"
      },
      "source": [
        "# Perfrom transformation using map function similar to Python map\n",
        "\n",
        "b = a.map(lambda x: x**2)       # here we square the numbers\n",
        "\n",
        "b.collect()"
      ],
      "execution_count": 7,
      "outputs": [
        {
          "output_type": "execute_result",
          "data": {
            "text/plain": [
              "[0, 1, 4, 9]"
            ]
          },
          "metadata": {
            "tags": []
          },
          "execution_count": 7
        }
      ]
    },
    {
      "cell_type": "code",
      "metadata": {
        "id": "Vct67fwJne37",
        "colab_type": "code",
        "colab": {
          "base_uri": "https://localhost:8080/",
          "height": 34
        },
        "outputId": "cf184019-cf58-4ae1-9f4f-3e26372b2392"
      },
      "source": [
        "# Perfrom transformation using map function similar to Python map\n",
        "\n",
        "b = a.map(lambda x:(x, x**2))   # transformed into a list of tuples\n",
        "\n",
        "b.collect()"
      ],
      "execution_count": 12,
      "outputs": [
        {
          "output_type": "execute_result",
          "data": {
            "text/plain": [
              "[(0, 0), (1, 1), (2, 4), (3, 9)]"
            ]
          },
          "metadata": {
            "tags": []
          },
          "execution_count": 12
        }
      ]
    },
    {
      "cell_type": "code",
      "metadata": {
        "id": "6nfSs9CHiffE",
        "colab_type": "code",
        "colab": {
          "base_uri": "https://localhost:8080/",
          "height": 34
        },
        "outputId": "02be835b-d02d-404e-8c81-507982911199"
      },
      "source": [
        "# Perform an action to get a summary statistics using reduce function \n",
        "\n",
        "a.reduce(lambda x, y : x + y)    # Sum up the numbers in the list"
      ],
      "execution_count": 8,
      "outputs": [
        {
          "output_type": "execute_result",
          "data": {
            "text/plain": [
              "6"
            ]
          },
          "metadata": {
            "tags": []
          },
          "execution_count": 8
        }
      ]
    },
    {
      "cell_type": "code",
      "metadata": {
        "id": "E3RSdsqLjBiF",
        "colab_type": "code",
        "colab": {
          "base_uri": "https://localhost:8080/",
          "height": 34
        },
        "outputId": "8b1a32f0-b007-4975-8f72-8ebc315b800b"
      },
      "source": [
        "# Perform an action to get a summary statistics using reduce function \n",
        "\n",
        "a.reduce(lambda x, y : x * y)    # Multiple the numbers in the list"
      ],
      "execution_count": 9,
      "outputs": [
        {
          "output_type": "execute_result",
          "data": {
            "text/plain": [
              "0"
            ]
          },
          "metadata": {
            "tags": []
          },
          "execution_count": 9
        }
      ]
    },
    {
      "cell_type": "code",
      "metadata": {
        "id": "iL0SNlfUohF2",
        "colab_type": "code",
        "colab": {
          "base_uri": "https://localhost:8080/",
          "height": 34
        },
        "outputId": "4878f806-eb5c-4593-d8bf-455ff7bb03bc"
      },
      "source": [
        "# Create another RDD - a list of tuples\n",
        "a = sc.parallelize([(1, -5), (3,400), (1, 3), (2, 30)])\n",
        "\n",
        "print(a.collect())"
      ],
      "execution_count": 15,
      "outputs": [
        {
          "output_type": "stream",
          "text": [
            "[(1, -5), (3, 400), (1, 3), (2, 30)]\n"
          ],
          "name": "stdout"
        }
      ]
    },
    {
      "cell_type": "code",
      "metadata": {
        "id": "oja8GmRaow1r",
        "colab_type": "code",
        "colab": {
          "base_uri": "https://localhost:8080/",
          "height": 68
        },
        "outputId": "012c313f-93c5-4e53-a4cf-be9ba3a4dd7b"
      },
      "source": [
        "print(a.countByKey())\n",
        "\n",
        "print(a.lookup(1))\n",
        "\n",
        "print(a.collectAsMap())"
      ],
      "execution_count": 16,
      "outputs": [
        {
          "output_type": "stream",
          "text": [
            "defaultdict(<class 'int'>, {1: 2, 3: 1, 2: 1})\n",
            "[-5, 3]\n",
            "{1: 3, 3: 400, 2: 30}\n"
          ],
          "name": "stdout"
        }
      ]
    },
    {
      "cell_type": "code",
      "metadata": {
        "id": "854oDhsZpVYb",
        "colab_type": "code",
        "colab": {
          "base_uri": "https://localhost:8080/",
          "height": 34
        },
        "outputId": "60dd4dc0-c433-4c6b-a843-bc94037c49b8"
      },
      "source": [
        "b = a.reduceByKey(lambda x, y: x*y)\n",
        "\n",
        "print(b.collect())"
      ],
      "execution_count": 17,
      "outputs": [
        {
          "output_type": "stream",
          "text": [
            "[(2, 30), (1, -15), (3, 400)]\n"
          ],
          "name": "stdout"
        }
      ]
    },
    {
      "cell_type": "code",
      "metadata": {
        "id": "JmEljFm7pYUw",
        "colab_type": "code",
        "colab": {}
      },
      "source": [
        "# this did not work\n",
        "\n",
        "c = a.groupByKey().map(lambda k, iter: (k, [x for x in iter]))\n",
        "\n",
        "c.collect()"
      ],
      "execution_count": 0,
      "outputs": []
    }
  ]
}