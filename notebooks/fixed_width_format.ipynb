{
 "cells": [
  {
   "cell_type": "markdown",
   "metadata": {},
   "source": [
    "## Read a Fixed Width Formatted (fwf) File in PySpark\n",
    "https://docs.microsoft.com/en-us/python/api/overview/azure/prose/readfixedwidth?view=prose-py-latest"
   ]
  },
  {
   "cell_type": "code",
   "execution_count": 28,
   "metadata": {},
   "outputs": [
    {
     "data": {
      "text/html": [
       "\n",
       "            <div>\n",
       "                <p><b>SparkSession - in-memory</b></p>\n",
       "                \n",
       "        <div>\n",
       "            <p><b>SparkContext</b></p>\n",
       "\n",
       "            <p><a href=\"http://das00.mitre.org:4041\">Spark UI</a></p>\n",
       "\n",
       "            <dl>\n",
       "              <dt>Version</dt>\n",
       "                <dd><code>v2.4.4</code></dd>\n",
       "              <dt>Master</dt>\n",
       "                <dd><code>local[*]</code></dd>\n",
       "              <dt>AppName</dt>\n",
       "                <dd><code>pyspark-shell</code></dd>\n",
       "            </dl>\n",
       "        </div>\n",
       "        \n",
       "            </div>\n",
       "        "
      ],
      "text/plain": [
       "<pyspark.sql.session.SparkSession at 0x7f88c8117910>"
      ]
     },
     "execution_count": 28,
     "metadata": {},
     "output_type": "execute_result"
    }
   ],
   "source": [
    "from pyspark.sql import SparkSession\n",
    "from pyspark.sql.functions import trim\n",
    "\n",
    "spark = SparkSession.builder \\\n",
    "    .appName(\"Jay\")          \\\n",
    "    .master(\"spark://das00.mitre.org:7077\")    \\\n",
    "    .getOrCreate()\n",
    "\n",
    "spark"
   ]
  },
  {
   "cell_type": "code",
   "execution_count": 26,
   "metadata": {},
   "outputs": [
    {
     "data": {
      "text/plain": [
       "[Row(value='20201234'),\n",
       " Row(value='20200105'),\n",
       " Row(value='20200125'),\n",
       " Row(value='20200305'),\n",
       " Row(value='20201001')]"
      ]
     },
     "execution_count": 26,
     "metadata": {},
     "output_type": "execute_result"
    }
   ],
   "source": [
    "df = spark.read.text(\"some_text.txt\")\n",
    "\n",
    "df.take(5)"
   ]
  },
  {
   "cell_type": "code",
   "execution_count": 27,
   "metadata": {},
   "outputs": [
    {
     "data": {
      "text/plain": [
       "[Row(YEAR='2020', MONTH='12', DAY='34'),\n",
       " Row(YEAR='2020', MONTH='01', DAY='05'),\n",
       " Row(YEAR='2020', MONTH='01', DAY='25'),\n",
       " Row(YEAR='2020', MONTH='03', DAY='05'),\n",
       " Row(YEAR='2020', MONTH='10', DAY='01')]"
      ]
     },
     "execution_count": 27,
     "metadata": {},
     "output_type": "execute_result"
    }
   ],
   "source": [
    "df = df.filter(trim(df.value) != \"\")\n",
    "\n",
    "df = df.select(\n",
    "    trim(df.value.substr(1, 4)).alias(\"YEAR\"),\n",
    "    trim(df.value.substr(5, 2)).alias(\"MONTH\"),\n",
    "    trim(df.value.substr(7, 2)).alias(\"DAY\")\n",
    ")\n",
    "\n",
    "df.take(5)"
   ]
  },
  {
   "cell_type": "code",
   "execution_count": null,
   "metadata": {},
   "outputs": [],
   "source": []
  }
 ],
 "metadata": {
  "kernelspec": {
   "display_name": "Python 3",
   "language": "python",
   "name": "python3"
  },
  "language_info": {
   "codemirror_mode": {
    "name": "ipython",
    "version": 3
   },
   "file_extension": ".py",
   "mimetype": "text/x-python",
   "name": "python",
   "nbconvert_exporter": "python",
   "pygments_lexer": "ipython3",
   "version": "3.7.5"
  }
 },
 "nbformat": 4,
 "nbformat_minor": 4
}
