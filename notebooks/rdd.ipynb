{
 "cells": [
  {
   "cell_type": "code",
   "execution_count": 1,
   "metadata": {},
   "outputs": [],
   "source": [
    "# Generate source data for various state from the national dataset.\n",
    "# for Spark application configuration such as executor memory setting, see this:\n",
    "# https://docs.cloudera.com/runtime/7.1.0/running-spark-applications/topics/spark-configure-apps.html\n",
    "# https://docs.cloudera.com/runtime/7.1.0/running-spark-applications/spark-running-applications.pdf\n",
    "# https://docs.cloudera.com/runtime/7.1.0/howto-data-science.html\n",
    "\n",
    "import findspark\n",
    "findspark.init()\n",
    "from pyspark import SparkContext, SparkConf\n",
    "from pyspark.sql import SparkSession\n",
    "import operator"
   ]
  },
  {
   "cell_type": "code",
   "execution_count": 2,
   "metadata": {},
   "outputs": [],
   "source": [
    "IPUMS_FILE = '/data/input/EXT1940USCB.dat'"
   ]
  },
  {
   "cell_type": "code",
   "execution_count": 3,
   "metadata": {},
   "outputs": [
    {
     "data": {
      "text/html": [
       "\n",
       "            <div>\n",
       "                <p><b>SparkSession - in-memory</b></p>\n",
       "                \n",
       "        <div>\n",
       "            <p><b>SparkContext</b></p>\n",
       "\n",
       "            <p><a href=\"http://das11.mitre.org:4040\">Spark UI</a></p>\n",
       "\n",
       "            <dl>\n",
       "              <dt>Version</dt>\n",
       "                <dd><code>v2.4.4</code></dd>\n",
       "              <dt>Master</dt>\n",
       "                <dd><code>spark://das11.mitre.org:7077</code></dd>\n",
       "              <dt>AppName</dt>\n",
       "                <dd><code>Jay</code></dd>\n",
       "            </dl>\n",
       "        </div>\n",
       "        \n",
       "            </div>\n",
       "        "
      ],
      "text/plain": [
       "<pyspark.sql.session.SparkSession at 0x7ffac8030750>"
      ]
     },
     "execution_count": 3,
     "metadata": {},
     "output_type": "execute_result"
    }
   ],
   "source": [
    "spark = SparkSession.builder \\\n",
    "    .appName(\"Jay\")          \\\n",
    "    .master(\"spark://das11.mitre.org:7077\")    \\\n",
    "    .config(\"spark.executor.memory\", \"24g\")    \\\n",
    "    .config(\"spark.executor.instances\", \"3\")    \\\n",
    "    .config(\"spark.executor.cores\", \"8\")    \\\n",
    "    .getOrCreate()\n",
    "spark"
   ]
  },
  {
   "cell_type": "code",
   "execution_count": null,
   "metadata": {},
   "outputs": [],
   "source": [
    "#spark_session.conf.set(\"spark.executor.memory\", '8g')\n",
    "#spark_session.conf.set('spark.executor.cores', '3')\n",
    "#spark_session.conf.set('spark.cores.max', '3')\n",
    "#spark_session.conf.set(\"spark.driver.memory\",'8g')\n",
    "#spark.conf.set(\"spark.executor.instances\", 3)\n",
    "#spark.conf.set(\"spark.executor.cores\", 4)"
   ]
  },
  {
   "cell_type": "code",
   "execution_count": 4,
   "metadata": {},
   "outputs": [
    {
     "data": {
      "text/plain": [
       "['H19400200000001022600000001000002700000000001198642810230001100000009999000000100000990000840199990011100000000200002000011000100107000000001000200000000100020',\n",
       " 'P19400200000001000100000001000000000000100101000000000000000009999010101207399500000110000000530530000000000000000000000000010114140050501102071275201198361125260009999999999990000000907302210077016402700009990000999999979999990000000F92A1965-DD8D-4DA5-9EDA-4DEF7D1F338C010',\n",
       " 'P1940020000000100020000000100000000000010020100000000000000000999912120310699960000011000000400400000000000000000000040000001011212003030110209889700001105220000000999999999999099999812008175039700300251000999000099999997999999000000069FA0B5D-4C58-4AD5-BDAC-0CA2EE215777020',\n",
       " 'H19400200000002047600000001000004300000000001198642810230001100000009999000000100000990000840199990011100000000500003001022200100107000000002000400000000200040',\n",
       " 'P19400200000002000100000001000000000000100102000020100000000009999010101203599200000110000000190190001901900000000000000000010114140050501102015629001026791125260009999999999990000000242685030875025608380009990000999999979999990000000E83390B6-3D59-4101-AFD4-17F58D1C7429010',\n",
       " 'P19400200000002000200000001000000000000100102000000000000001003535050501206899500000110000000190190000000000000000000000000010111110020261102072075401026792294040009999999999990000000216152640182004302260009990000999999979999990000000AE4E2DB6-2E0C-4FA7-97BE-408F6116B0CC020',\n",
       " 'P1940020000000200030000000100000000000010020100000000000000000999912121120329960000011000000026026000000000000000000000000001011717008080110207807840102679220404000999999999999000080021116203007500670322000999000099999997999999000000082668571-CCAF-4E4B-9ABE-97DCDDB49A44030',\n",
       " 'P194002000000020004000000010000000000001003010000000000000000099991212031052996000001100000040440400000000000000000002000000101131300404011020988970003330722014200099999999999900004202200817503970030025100099900009999999799999900000009631E0A2-99F7-421A-8EC0-231B4A578CC0040',\n",
       " 'H19400200000003010200000001000001400000000001198642810230001100000009999000000100000990000840199990011100000000200001000011000100107000000003000100000000300010',\n",
       " 'P19400200000003000100000001000000000000100101000000000000000009999010101107299600000110000004054050000000000000000000200000010108080020221102072075401026792200000009999999999990999998216152640182004302260009990000999999979999990000000C76B3938-EB13-4C62-B1BC-A1867777FB25010']"
      ]
     },
     "execution_count": 4,
     "metadata": {},
     "output_type": "execute_result"
    }
   ],
   "source": [
    "rdd = spark.sparkContext.textFile(IPUMS_FILE)\n",
    "rdd.take(10)"
   ]
  },
  {
   "cell_type": "code",
   "execution_count": 5,
   "metadata": {},
   "outputs": [
    {
     "data": {
      "text/plain": [
       "['H19400238412818036000000001000003100000000001198641685600101100000009999000000100000500000840199990012200020999999901011122100100102000000001000300000000100030',\n",
       " 'H19400238412819022800000001000002100000000011198641685600101100000009999000000100000500000840199990012200015999999901010011000100101000000002000200000000200020',\n",
       " 'H19400238412820018800000001000001600000000001198641685600101100000009999000000100000500000840199990012200010999999901000011000100101000000003000100000000300010',\n",
       " 'H19400238412821049600000001000004100000000001198641685600101100000009999000000100000500000840199990012200030999999901011122100100101000000004000400000000400040',\n",
       " 'H19400238412822024900000001000002100000000001198641685600101100000009999000000100000500000840199990012200030999999901010011000100101000000005000200000000500020',\n",
       " 'H19400238412823029000000001000002100000000001198641685600101100000009999000000100000500000840199990012200015999999901010011000100101000000006000200000000600020',\n",
       " 'H19400238412824030000000001000003200000000001198641685600101100000009999000000100000500000840199990012200010999999901110011000100101000000007000300000000700030',\n",
       " 'H19400238412825012700000001000001400000000001198641685600101100000009999000000100000500000840199990012200010999999901000011000100101000000008000100000000800010',\n",
       " 'H19400238412826017400000001000001400000000001198641685600101100000009999000000100000500000840199990012200010999999901000011000100101000000009000100000000900010',\n",
       " 'H19400238412827017800000001000001400000000001198641685600101100000009999000000100000500000840199990012200010999999901000011000100107000000010000100000001000010']"
      ]
     },
     "execution_count": 5,
     "metadata": {},
     "output_type": "execute_result"
    }
   ],
   "source": [
    "WY_UNIT_RDD = rdd.filter(lambda x: \"56\" in x[53:55])\n",
    "WY_UNIT_RDD.take(10)"
   ]
  },
  {
   "cell_type": "code",
   "execution_count": 15,
   "metadata": {},
   "outputs": [
    {
     "data": {
      "text/plain": [
       "80146"
      ]
     },
     "execution_count": 15,
     "metadata": {},
     "output_type": "execute_result"
    }
   ],
   "source": [
    "WY_UNIT_RDD.count()"
   ]
  },
  {
   "cell_type": "code",
   "execution_count": 6,
   "metadata": {},
   "outputs": [
    {
     "data": {
      "text/plain": [
       "['38412818',\n",
       " '38412819',\n",
       " '38412820',\n",
       " '38412821',\n",
       " '38412822',\n",
       " '38412823',\n",
       " '38412824',\n",
       " '38412825',\n",
       " '38412826',\n",
       " '38412827']"
      ]
     },
     "execution_count": 6,
     "metadata": {},
     "output_type": "execute_result"
    }
   ],
   "source": [
    "WY_SERIAL_RDD = WY_UNIT_RDD.map(lambda x: x[7:15])\n",
    "WY_SERIAL_RDD.take(10)"
   ]
  },
  {
   "cell_type": "code",
   "execution_count": 20,
   "metadata": {},
   "outputs": [
    {
     "data": {
      "text/plain": [
       "80146"
      ]
     },
     "execution_count": 20,
     "metadata": {},
     "output_type": "execute_result"
    }
   ],
   "source": [
    "WY_SERIAL_RDD.count()"
   ]
  },
  {
   "cell_type": "code",
   "execution_count": null,
   "metadata": {},
   "outputs": [],
   "source": []
  },
  {
   "cell_type": "code",
   "execution_count": 7,
   "metadata": {},
   "outputs": [
    {
     "data": {
      "text/plain": [
       "['38412818',\n",
       " '38412819',\n",
       " '38412820',\n",
       " '38412821',\n",
       " '38412822',\n",
       " '38412823',\n",
       " '38412824',\n",
       " '38412825',\n",
       " '38412826',\n",
       " '38412827']"
      ]
     },
     "execution_count": 7,
     "metadata": {},
     "output_type": "execute_result"
    }
   ],
   "source": [
    "serial_list = WY_SERIAL_RDD.collect()\n",
    "serial_list[:10]"
   ]
  },
  {
   "cell_type": "code",
   "execution_count": null,
   "metadata": {},
   "outputs": [],
   "source": [
    "# This is taking forever, after 2 hours and still running.\n",
    "# So I stopped it and switched to pyspark dataframe using semi outer join.\n",
    "\n",
    "WY_RDD = rdd.filter(lambda x: x[7:15] in serial_list)\n",
    "WY_RDD.take(10)"
   ]
  },
  {
   "cell_type": "code",
   "execution_count": null,
   "metadata": {},
   "outputs": [],
   "source": [
    "WY_RDD.count()"
   ]
  },
  {
   "cell_type": "code",
   "execution_count": null,
   "metadata": {},
   "outputs": [],
   "source": [
    "WY_RDD.saveAsTextFile(\"file:///data/input/Wyoming.dat\")"
   ]
  }
 ],
 "metadata": {
  "kernelspec": {
   "display_name": "Python 3",
   "language": "python",
   "name": "python3"
  },
  "language_info": {
   "codemirror_mode": {
    "name": "ipython",
    "version": 3
   },
   "file_extension": ".py",
   "mimetype": "text/x-python",
   "name": "python",
   "nbconvert_exporter": "python",
   "pygments_lexer": "ipython3",
   "version": "3.7.7"
  }
 },
 "nbformat": 4,
 "nbformat_minor": 4
}
