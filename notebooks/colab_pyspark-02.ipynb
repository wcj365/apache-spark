{
  "nbformat": 4,
  "nbformat_minor": 0,
  "metadata": {
    "colab": {
      "name": "colab_pyspark.ipynb",
      "provenance": [],
      "authorship_tag": "ABX9TyNut0qoPU50nl2BDYYlIn+b",
      "include_colab_link": true
    },
    "kernelspec": {
      "name": "python3",
      "display_name": "Python 3"
    }
  },
  "cells": [
    {
      "cell_type": "markdown",
      "metadata": {
        "id": "view-in-github",
        "colab_type": "text"
      },
      "source": [
        "<a href=\"https://colab.research.google.com/github/wcj365/apache-spark/blob/master/notebooks/colab_pyspark-02.ipynb\" target=\"_parent\"><img src=\"https://colab.research.google.com/assets/colab-badge.svg\" alt=\"Open In Colab\"/></a>"
      ]
    },
    {
      "cell_type": "code",
      "metadata": {
        "id": "zvOm9pPyA6Fs",
        "colab_type": "code",
        "outputId": "f4bb5981-8a2d-4bf7-ca1f-fa7b69784406",
        "colab": {
          "base_uri": "https://localhost:8080/",
          "height": 263
        }
      },
      "source": [
        "!pip install pyspark"
      ],
      "execution_count": 1,
      "outputs": [
        {
          "output_type": "stream",
          "text": [
            "Collecting pyspark\n",
            "\u001b[?25l  Downloading https://files.pythonhosted.org/packages/9a/5a/271c416c1c2185b6cb0151b29a91fff6fcaed80173c8584ff6d20e46b465/pyspark-2.4.5.tar.gz (217.8MB)\n",
            "\u001b[K     |████████████████████████████████| 217.8MB 58kB/s \n",
            "\u001b[?25hCollecting py4j==0.10.7\n",
            "\u001b[?25l  Downloading https://files.pythonhosted.org/packages/e3/53/c737818eb9a7dc32a7cd4f1396e787bd94200c3997c72c1dbe028587bd76/py4j-0.10.7-py2.py3-none-any.whl (197kB)\n",
            "\u001b[K     |████████████████████████████████| 204kB 43.5MB/s \n",
            "\u001b[?25hBuilding wheels for collected packages: pyspark\n",
            "  Building wheel for pyspark (setup.py) ... \u001b[?25l\u001b[?25hdone\n",
            "  Created wheel for pyspark: filename=pyspark-2.4.5-py2.py3-none-any.whl size=218257927 sha256=d03b2766610d611bc5c1152a01e4f827eddcbbf0989f950f39fc681cdc00b63f\n",
            "  Stored in directory: /root/.cache/pip/wheels/bf/db/04/61d66a5939364e756eb1c1be4ec5bdce6e04047fc7929a3c3c\n",
            "Successfully built pyspark\n",
            "Installing collected packages: py4j, pyspark\n",
            "Successfully installed py4j-0.10.7 pyspark-2.4.5\n"
          ],
          "name": "stdout"
        }
      ]
    },
    {
      "cell_type": "code",
      "metadata": {
        "id": "59KNYoXOf_of",
        "colab_type": "code",
        "colab": {}
      },
      "source": [
        "from pyspark.sql import SparkSession\n",
        "from pyspark.sql import Row"
      ],
      "execution_count": 0,
      "outputs": []
    },
    {
      "cell_type": "code",
      "metadata": {
        "id": "nJH6mbu2BnV4",
        "colab_type": "code",
        "outputId": "a5d8f0a6-fe8b-41eb-ffaa-abf8809c754b",
        "colab": {
          "base_uri": "https://localhost:8080/",
          "height": 219
        }
      },
      "source": [
        "\n",
        "spark = SparkSession \\\n",
        ".builder \\\n",
        ".appName(\"Jay Test\") \\\n",
        ".getOrCreate()\n",
        "spark"
      ],
      "execution_count": 3,
      "outputs": [
        {
          "output_type": "execute_result",
          "data": {
            "text/html": [
              "\n",
              "            <div>\n",
              "                <p><b>SparkSession - in-memory</b></p>\n",
              "                \n",
              "        <div>\n",
              "            <p><b>SparkContext</b></p>\n",
              "\n",
              "            <p><a href=\"http://bb3ca6fbd9e8:4040\">Spark UI</a></p>\n",
              "\n",
              "            <dl>\n",
              "              <dt>Version</dt>\n",
              "                <dd><code>v2.4.5</code></dd>\n",
              "              <dt>Master</dt>\n",
              "                <dd><code>local[*]</code></dd>\n",
              "              <dt>AppName</dt>\n",
              "                <dd><code>Jay Test</code></dd>\n",
              "            </dl>\n",
              "        </div>\n",
              "        \n",
              "            </div>\n",
              "        "
            ],
            "text/plain": [
              "<pyspark.sql.session.SparkSession at 0x7f30a9e6b128>"
            ]
          },
          "metadata": {
            "tags": []
          },
          "execution_count": 3
        }
      ]
    },
    {
      "cell_type": "code",
      "metadata": {
        "id": "rCQAEDe1CPBb",
        "colab_type": "code",
        "outputId": "baf6e2e6-a3ee-4173-9c5b-b31cf76c42da",
        "colab": {
          "base_uri": "https://localhost:8080/",
          "height": 156
        }
      },
      "source": [
        "rdd = spark.sparkContext.parallelize([(1, 2, 3, 'a b c'), (4, 5, 6, 'd e f'),(7, 8, 9, 'g h i')])\n",
        "df = rdd.toDF(['col1', 'col2', 'col3','col4'])\n",
        "df.show()"
      ],
      "execution_count": 4,
      "outputs": [
        {
          "output_type": "stream",
          "text": [
            "+----+----+----+-----+\n",
            "|col1|col2|col3| col4|\n",
            "+----+----+----+-----+\n",
            "|   1|   2|   3|a b c|\n",
            "|   4|   5|   6|d e f|\n",
            "|   7|   8|   9|g h i|\n",
            "+----+----+----+-----+\n",
            "\n"
          ],
          "name": "stdout"
        }
      ]
    },
    {
      "cell_type": "code",
      "metadata": {
        "id": "S7lTXlBLfgt2",
        "colab_type": "code",
        "outputId": "1d729c4a-e106-416a-a9fb-52d4fbee94ab",
        "colab": {
          "base_uri": "https://localhost:8080/",
          "height": 52
        }
      },
      "source": [
        "Employee = Row(\"firstName\", \"lastName\", \"email\", \"salary\")\n",
        " \n",
        "employee1 = Employee('Basher', 'armbrust', 'bash@edureka.co', 100000)\n",
        "employee2 = Employee('Daniel', 'meng', 'daniel@stanford.edu', 120000 )\n",
        "employee3 = Employee('Muriel', None, 'muriel@waterloo.edu', 140000 )\n",
        "employee4 = Employee('Rachel', 'wendell', 'rach_3@edureka.co', 160000 )\n",
        "employee5 = Employee('Zach', 'galifianakis', 'zach_g@edureka.co', 160000 )\n",
        " \n",
        "print(Employee[0])\n",
        " \n",
        "print(employee3)\n",
        " \n",
        "department1 = Row(id='123456', name='HR')\n",
        "department2 = Row(id='789012', name='OPS')\n",
        "department3 = Row(id='345678', name='FN')\n",
        "department4 = Row(id='901234', name='DEV')"
      ],
      "execution_count": 5,
      "outputs": [
        {
          "output_type": "stream",
          "text": [
            "firstName\n",
            "Row(firstName='Muriel', lastName=None, email='muriel@waterloo.edu', salary=140000)\n"
          ],
          "name": "stdout"
        }
      ]
    },
    {
      "cell_type": "code",
      "metadata": {
        "id": "-odxFPcogRud",
        "colab_type": "code",
        "colab": {}
      },
      "source": [
        "departmentWithEmployees1 = Row(department=department1, employees=[employee1, employee2, employee5])\n",
        "departmentWithEmployees2 = Row(department=department2, employees=[employee3, employee4])\n",
        "departmentWithEmployees3 = Row(department=department3, employees=[employee1, employee4, employee3])\n",
        "departmentWithEmployees4 = Row(department=department4, employees=[employee2, employee3])"
      ],
      "execution_count": 0,
      "outputs": []
    },
    {
      "cell_type": "code",
      "metadata": {
        "id": "oSMwT4I_gXr4",
        "colab_type": "code",
        "outputId": "891d846b-7f18-4db2-bd57-171c28f15207",
        "colab": {
          "base_uri": "https://localhost:8080/",
          "height": 156
        }
      },
      "source": [
        "departmentsWithEmployees_Seq = [departmentWithEmployees1, departmentWithEmployees2]\n",
        "dframe = spark.createDataFrame(departmentsWithEmployees_Seq)\n",
        "display(dframe)\n",
        "dframe.show()"
      ],
      "execution_count": 7,
      "outputs": [
        {
          "output_type": "display_data",
          "data": {
            "text/plain": [
              "DataFrame[department: struct<id:string,name:string>, employees: array<struct<firstName:string,lastName:string,email:string,salary:bigint>>]"
            ]
          },
          "metadata": {
            "tags": []
          }
        },
        {
          "output_type": "stream",
          "text": [
            "+-------------+--------------------+\n",
            "|   department|           employees|\n",
            "+-------------+--------------------+\n",
            "| [123456, HR]|[[Basher, armbrus...|\n",
            "|[789012, OPS]|[[Muriel,, muriel...|\n",
            "+-------------+--------------------+\n",
            "\n"
          ],
          "name": "stdout"
        }
      ]
    },
    {
      "cell_type": "code",
      "metadata": {
        "id": "PETI_rXdiu3e",
        "colab_type": "code",
        "outputId": "8bc94346-9264-4624-af7f-dd188a52cc33",
        "colab": {
          "base_uri": "https://localhost:8080/",
          "height": 34
        }
      },
      "source": [
        "import pyspark\n",
        "print(pyspark.__version__)"
      ],
      "execution_count": 0,
      "outputs": [
        {
          "output_type": "stream",
          "text": [
            "2.4.5\n"
          ],
          "name": "stdout"
        }
      ]
    },
    {
      "cell_type": "code",
      "metadata": {
        "id": "psdwsYnZjIJ8",
        "colab_type": "code",
        "outputId": "9e577e4d-e5ed-4bb9-c4df-0fc49a5c277d",
        "colab": {
          "base_uri": "https://localhost:8080/",
          "height": 34
        }
      },
      "source": [
        "import numpy as np\n",
        "print(np.__version__)"
      ],
      "execution_count": 0,
      "outputs": [
        {
          "output_type": "stream",
          "text": [
            "1.18.4\n"
          ],
          "name": "stdout"
        }
      ]
    },
    {
      "cell_type": "code",
      "metadata": {
        "id": "GLI9CHfxTLxG",
        "colab_type": "code",
        "colab": {
          "base_uri": "https://localhost:8080/",
          "height": 69
        },
        "outputId": "4f0fcb92-e1e3-4666-d5b6-871ee7804d88"
      },
      "source": [
        "!java --version"
      ],
      "execution_count": 8,
      "outputs": [
        {
          "output_type": "stream",
          "text": [
            "openjdk 11.0.7 2020-04-14\n",
            "OpenJDK Runtime Environment (build 11.0.7+10-post-Ubuntu-2ubuntu218.04)\n",
            "OpenJDK 64-Bit Server VM (build 11.0.7+10-post-Ubuntu-2ubuntu218.04, mixed mode, sharing)\n"
          ],
          "name": "stdout"
        }
      ]
    }
  ]
}