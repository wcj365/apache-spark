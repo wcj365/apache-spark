{
  "nbformat": 4,
  "nbformat_minor": 0,
  "metadata": {
    "colab": {
      "name": "02-install-spark.ipynb",
      "provenance": [],
      "authorship_tag": "ABX9TyO3aSAgfrlE4BtwdWDEh2Oh",
      "include_colab_link": true
    },
    "kernelspec": {
      "name": "python3",
      "display_name": "Python 3"
    }
  },
  "cells": [
    {
      "cell_type": "markdown",
      "metadata": {
        "id": "view-in-github",
        "colab_type": "text"
      },
      "source": [
        "<a href=\"https://colab.research.google.com/github/wcj365/us-college-data-analysis/blob/master/notebooks/02-install-spark.ipynb\" target=\"_parent\"><img src=\"https://colab.research.google.com/assets/colab-badge.svg\" alt=\"Open In Colab\"/></a>"
      ]
    },
    {
      "cell_type": "code",
      "metadata": {
        "id": "2GRRuiDI_zvw",
        "colab_type": "code",
        "colab": {
          "base_uri": "https://localhost:8080/",
          "height": 51
        },
        "outputId": "16c17e78-3008-4602-948f-e4c7361288d3"
      },
      "source": [
        "# Install spark-related dependencies\n",
        "\n",
        "!apt-get install openjdk-8-jdk-headless -qq > /dev/null\n",
        "\n",
        "!wget -q http://apache.osuosl.org/spark/spark-2.4.5/spark-2.4.5-bin-hadoop2.7.tgz\n",
        "\n",
        "!tar xf spark-2.4.5-bin-hadoop2.7.tgz\n",
        "\n",
        "!pip install -q findspark\n",
        "\n",
        "!pip install pyspark\n",
        "\n",
        "\n"
      ],
      "execution_count": 29,
      "outputs": [
        {
          "output_type": "stream",
          "text": [
            "Requirement already satisfied: pyspark in /usr/local/lib/python3.6/dist-packages (2.4.5)\n",
            "Requirement already satisfied: py4j==0.10.7 in /usr/local/lib/python3.6/dist-packages (from pyspark) (0.10.7)\n"
          ],
          "name": "stdout"
        }
      ]
    },
    {
      "cell_type": "code",
      "metadata": {
        "id": "2R1GHDlCDRnA",
        "colab_type": "code",
        "colab": {}
      },
      "source": [
        "# Set up required environment variables\n",
        "\n",
        "import os\n",
        "os.environ[\"JAVA_HOME\"] = \"/usr/lib/jvm/java-8-openjdk-amd64\"\n",
        "os.environ[\"SPARK_HOME\"] = \"/content/spark-2.4.5-bin-hadoop2.7\""
      ],
      "execution_count": 0,
      "outputs": []
    },
    {
      "cell_type": "code",
      "metadata": {
        "id": "eWIrnj6lCMAq",
        "colab_type": "code",
        "colab": {}
      },
      "source": [
        "# Tools we need to connect to the Spark server, load our data,\n",
        "# clean it and prepare it\n",
        "from pyspark import SparkContext, SparkConf\n",
        "\n",
        "\n"
      ],
      "execution_count": 0,
      "outputs": []
    },
    {
      "cell_type": "code",
      "metadata": {
        "id": "zLC2-ppRCQPx",
        "colab_type": "code",
        "colab": {}
      },
      "source": [
        "# This example uses a simple tiny list of four numbers to illustrate \n",
        "# the cooncept of Resilient Distributed Dataset (RDD).\n",
        "# The list can be distributed within the cluster (potentially many nodes or computers).\n",
        "# In reality, the list can be millions of objects and must be distributed across many nodes.\n",
        "\n",
        "\n",
        "APP_NAME = \"CollegeScorecard\"\n",
        "SPARK_URL = \"local[*]\"\n",
        "\n",
        "conf = SparkConf().setAppName(APP_NAME).setMaster(SPARK_URL)\n",
        "\n",
        "sc = SparkContext.getOrCreate(conf)\n",
        "\n",
        "a = sc.parallelize(range(4))    # Initial the RDD\n",
        "\n",
        "a.collect()                    "
      ],
      "execution_count": 0,
      "outputs": []
    }
  ]
}